{
 "cells": [
  {
   "cell_type": "markdown",
   "id": "660874c7",
   "metadata": {},
   "source": [
    "Problem 1\n",
    "Write a function longestpath(dict) that finds the length of a longest path, (a : b) → (b : c) → ··· in a dictionary dict.\n",
    "\n",
    "It counts each pointer from a key to a value as one step. For example, the path (a : b) → (b : c) has length 2 because the path will have two steps as shown here: a → b → c\n",
    "\n",
    "To avoid cycles, we do not allow any key to appear more than once in a path (as a key). For example, (a : b) → (b : a) only has length 1 because the path will have one step only (excluding cycles means the path from b to a is excluded):\n",
    "\n",
    "Assume None does not appear as a key or a value.\n",
    "\n",
    "Sample Input:\n",
    "\n",
    "dict1 ={'a':'b', 'b':'c', 'c':'d', 'd':'e', 'e':'f', 'f':'a'}\n",
    "\n",
    "print(longestpath(dict1))\n",
    "\n",
    "Output: 5\n",
    "\n",
    "Sample Input (no cycle is allowed):\n",
    "\n",
    "dict2 ={'a':'b', 'b':'a'}\n",
    "\n",
    "print(longestpath(dict2))\n",
    "\n",
    "Output: 1\n",
    "\n",
    "Sample Input:\n",
    "\n",
    "dict3 ={'Amy':'Bob', 'Bob':'Cat', 'Cat':'David', 'David':'Emily'}\n",
    "\n",
    "print(longestpath(dict3))\n",
    "\n",
    "Output: 4\n",
    "\n",
    "Sample Input:\n",
    "\n",
    "dict4={ 'a':'b'}\n",
    "\n",
    "print(longestpath(dict4))\n",
    "\n",
    "Output: 1\n",
    "\n",
    "Sample Input:\n",
    "\n",
    "dict6={'Amy':'Dog', 'Bob':'Cat', 'David':'Emily','Cat':'David'}\n",
    "\n",
    "print(longestpath(dict6))\n",
    "\n",
    "Output: 3"
   ]
  },
  {
   "cell_type": "code",
   "execution_count": 36,
   "id": "597c111f",
   "metadata": {},
   "outputs": [],
   "source": [
    "def longestpath(x):\n",
    "    d = x\n",
    "    key_list = list(d.keys())\n",
    "    values_list = list(d.values())\n",
    "    _count = []\n",
    "    for i in key_list:\n",
    "        key = i\n",
    "        count = 1\n",
    "        while True:\n",
    "            if (d[key] and (d[key] in key_list) and (d[key]!=i)): \n",
    "                key = d[key]\n",
    "                count+=1\n",
    "                if d[key]==i:\n",
    "                        count = count-1\n",
    "            else:\n",
    "                break\n",
    "        _count.append(count)\n",
    "    return max(_count)"
   ]
  },
  {
   "cell_type": "code",
   "execution_count": 37,
   "id": "07f334ae",
   "metadata": {},
   "outputs": [
    {
     "name": "stdout",
     "output_type": "stream",
     "text": [
      "5\n"
     ]
    }
   ],
   "source": [
    "print(longestpath({'a':'b', 'b':'c', 'c':'d', 'd':'e', 'e':'f', 'f':'a'}))"
   ]
  },
  {
   "cell_type": "code",
   "execution_count": 38,
   "id": "ad7a8c63",
   "metadata": {},
   "outputs": [
    {
     "name": "stdout",
     "output_type": "stream",
     "text": [
      "1\n"
     ]
    }
   ],
   "source": [
    "print(longestpath({'a':'b', 'b':'a'}))"
   ]
  },
  {
   "cell_type": "code",
   "execution_count": 39,
   "id": "313795ea",
   "metadata": {},
   "outputs": [
    {
     "name": "stdout",
     "output_type": "stream",
     "text": [
      "4\n"
     ]
    }
   ],
   "source": [
    "print(longestpath({'Amy':'Bob', 'Bob':'Cat', 'Cat':'David', 'David':'Emily'}))"
   ]
  },
  {
   "cell_type": "code",
   "execution_count": 40,
   "id": "0619b442",
   "metadata": {},
   "outputs": [
    {
     "name": "stdout",
     "output_type": "stream",
     "text": [
      "1\n"
     ]
    }
   ],
   "source": [
    "print(longestpath({ 'a':'b'}))"
   ]
  },
  {
   "cell_type": "code",
   "execution_count": 41,
   "id": "97c6d27b",
   "metadata": {},
   "outputs": [
    {
     "name": "stdout",
     "output_type": "stream",
     "text": [
      "3\n"
     ]
    }
   ],
   "source": [
    "print(longestpath({'Amy':'Dog', 'Bob':'Cat', 'David':'Emily','Cat':'David'}))"
   ]
  },
  {
   "cell_type": "code",
   "execution_count": null,
   "id": "93e89663",
   "metadata": {},
   "outputs": [],
   "source": []
  }
 ],
 "metadata": {
  "kernelspec": {
   "display_name": "Python 3 (ipykernel)",
   "language": "python",
   "name": "python3"
  },
  "language_info": {
   "codemirror_mode": {
    "name": "ipython",
    "version": 3
   },
   "file_extension": ".py",
   "mimetype": "text/x-python",
   "name": "python",
   "nbconvert_exporter": "python",
   "pygments_lexer": "ipython3",
   "version": "3.9.13"
  },
  "varInspector": {
   "cols": {
    "lenName": 16,
    "lenType": 16,
    "lenVar": 40
   },
   "kernels_config": {
    "python": {
     "delete_cmd_postfix": "",
     "delete_cmd_prefix": "del ",
     "library": "var_list.py",
     "varRefreshCmd": "print(var_dic_list())"
    },
    "r": {
     "delete_cmd_postfix": ") ",
     "delete_cmd_prefix": "rm(",
     "library": "var_list.r",
     "varRefreshCmd": "cat(var_dic_list()) "
    }
   },
   "types_to_exclude": [
    "module",
    "function",
    "builtin_function_or_method",
    "instance",
    "_Feature"
   ],
   "window_display": false
  }
 },
 "nbformat": 4,
 "nbformat_minor": 5
}
